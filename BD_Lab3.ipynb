{
 "cells": [
  {
   "cell_type": "markdown",
   "metadata": {},
   "source": [
    "# Lab 3: Simple Dataset Analysis with Pandas"
   ]
  },
  {
   "cell_type": "code",
   "execution_count": 18,
   "metadata": {},
   "outputs": [],
   "source": [
    "import pandas as pd;"
   ]
  },
  {
   "cell_type": "markdown",
   "metadata": {},
   "source": [
    "## Abstract\n",
    "In this lab, we will be analyzing the City of Seattle Staff demographics and comparing the hourly rates the employees make with the genders of the employees. We will do a box plot of the hourly rates based on genders and find the min, max and average hourly rate per gender."
   ]
  },
  {
   "cell_type": "markdown",
   "metadata": {},
   "source": [
    "## Dataset Preparation\n",
    "This data represents the City of Seattle Staff Demographics, which includes Race/Ethnicity, Sex, Department, Age, Hourly Rate, Regular/Temporary, Employee Status. For this dataset analysis, I will focus mainly on sex and hourly rate.\n",
    "\n",
    "This dataset can be found at: https://data.seattle.gov/City-Business/City-of-Seattle-Staff-Demographics/5avq-r9hj\n",
    "\n",
    "This data is collected by Seattle Department of Human Resources"
   ]
  },
  {
   "cell_type": "code",
   "execution_count": 30,
   "metadata": {},
   "outputs": [
    {
     "data": {
      "text/plain": [
       "<pandas.core.groupby.generic.DataFrameGroupBy object at 0x00000280D86C6C50>"
      ]
     },
     "execution_count": 30,
     "metadata": {},
     "output_type": "execute_result"
    }
   ],
   "source": [
    "# Saving the City of Seattle Staff Demographics CSV file to a dataframe to work on and model data\n",
    "df = pd.read_csv(\"City_of_Seattle_Staff_Demographics.csv\");\n",
    "\n",
    "# Grouping the dataframe by Sex and Hourly Rates\n",
    "dfs = df.groupby('Sex');\n",
    "dfs"
   ]
  },
  {
   "cell_type": "markdown",
   "metadata": {},
   "source": [
    "## Data Modeling\n"
   ]
  },
  {
   "cell_type": "code",
   "execution_count": 27,
   "metadata": {},
   "outputs": [
    {
     "data": {
      "text/html": [
       "<div>\n",
       "<style scoped>\n",
       "    .dataframe tbody tr th:only-of-type {\n",
       "        vertical-align: middle;\n",
       "    }\n",
       "\n",
       "    .dataframe tbody tr th {\n",
       "        vertical-align: top;\n",
       "    }\n",
       "\n",
       "    .dataframe thead th {\n",
       "        text-align: right;\n",
       "    }\n",
       "</style>\n",
       "<table border=\"1\" class=\"dataframe\">\n",
       "  <thead>\n",
       "    <tr style=\"text-align: right;\">\n",
       "      <th></th>\n",
       "      <th>count</th>\n",
       "      <th>mean</th>\n",
       "      <th>std</th>\n",
       "      <th>min</th>\n",
       "      <th>25%</th>\n",
       "      <th>50%</th>\n",
       "      <th>75%</th>\n",
       "      <th>max</th>\n",
       "    </tr>\n",
       "    <tr>\n",
       "      <th>Sex</th>\n",
       "      <th></th>\n",
       "      <th></th>\n",
       "      <th></th>\n",
       "      <th></th>\n",
       "      <th></th>\n",
       "      <th></th>\n",
       "      <th></th>\n",
       "      <th></th>\n",
       "    </tr>\n",
       "  </thead>\n",
       "  <tbody>\n",
       "    <tr>\n",
       "      <th>F</th>\n",
       "      <td>5593.0</td>\n",
       "      <td>37.176452</td>\n",
       "      <td>15.340454</td>\n",
       "      <td>5.53</td>\n",
       "      <td>25.54</td>\n",
       "      <td>35.430</td>\n",
       "      <td>48.090</td>\n",
       "      <td>162.8353</td>\n",
       "    </tr>\n",
       "    <tr>\n",
       "      <th>M</th>\n",
       "      <td>8595.0</td>\n",
       "      <td>41.902438</td>\n",
       "      <td>15.491124</td>\n",
       "      <td>5.53</td>\n",
       "      <td>30.50</td>\n",
       "      <td>41.840</td>\n",
       "      <td>52.850</td>\n",
       "      <td>131.7087</td>\n",
       "    </tr>\n",
       "    <tr>\n",
       "      <th>N</th>\n",
       "      <td>6.0</td>\n",
       "      <td>26.780000</td>\n",
       "      <td>10.583310</td>\n",
       "      <td>16.00</td>\n",
       "      <td>17.92</td>\n",
       "      <td>25.685</td>\n",
       "      <td>35.565</td>\n",
       "      <td>39.1200</td>\n",
       "    </tr>\n",
       "  </tbody>\n",
       "</table>\n",
       "</div>"
      ],
      "text/plain": [
       "      count       mean        std    min    25%     50%     75%       max\n",
       "Sex                                                                      \n",
       "F    5593.0  37.176452  15.340454   5.53  25.54  35.430  48.090  162.8353\n",
       "M    8595.0  41.902438  15.491124   5.53  30.50  41.840  52.850  131.7087\n",
       "N       6.0  26.780000  10.583310  16.00  17.92  25.685  35.565   39.1200"
      ]
     },
     "execution_count": 27,
     "metadata": {},
     "output_type": "execute_result"
    }
   ],
   "source": [
    "# Looking at the count, mean, std, min, 25%, 50%, 75% and max values for Hourly Rates grouped by sex\n",
    "dfs.describe()[(\"Hourly Rate\")]"
   ]
  },
  {
   "cell_type": "code",
   "execution_count": 29,
   "metadata": {},
   "outputs": [
    {
     "data": {
      "text/plain": [
       "<matplotlib.axes._subplots.AxesSubplot at 0x280d8633940>"
      ]
     },
     "execution_count": 29,
     "metadata": {},
     "output_type": "execute_result"
    },
    {
     "data": {
      "image/png": "[encoded data removed]",
      "text/plain": [
       "<Figure size 432x288 with 1 Axes>"
      ]
     },
     "metadata": {
      "needs_background": "light"
     },
     "output_type": "display_data"
    }
   ],
   "source": [
    "# Making a box plot with the rows being Sex and columns being hourly rates\n",
    "df.boxplot(by = 'Sex', column = ['Hourly Rate'])"
   ]
  },
  {
   "cell_type": "markdown",
   "metadata": {},
   "source": [
    "Using `.describe` and `.boxplot`, we were able to find a lot of data to compare between men, women and nonbinary genders, and a boxplot to help visualize them for us"
   ]
  },
  {
   "cell_type": "markdown",
   "metadata": {},
   "source": [
    "## Data Analysis and Conclusion\n",
    "\n",
    "Using this data, I was able to find that the average male hourly rate is about \\\\$41.90 while the female average hourly rate is about \\\\$37.18. I also was able to find that the average hourly rate for N (Either stands for nonbinary or N/A) is only \\\\$26.78. The minimum for both male and female was \\\\$5.53 but the min for N was \\\\$16.00. The max for male however, was \\\\$162.84, which was around \\\\$30 more than the female max, which was \\\\$131.71. The max hourly rate for N was only \\\\$39.12. Some of this data is very surprising to me, and brings me to the conclusion that there may be a wage gap based on gender for the City of Seattle employees, with the average gap between male and female hourly rates being \\\\$10.72. This gap between male and female, along with the large gap for N, might be able to be explained by the number of each gender employee. There are 8595 men who work for the City of Seattle, and only 5593 females and 6 N who work for Seattle. This brings up some questions for me, such as:\n",
    " - Does the difference in amount of employees of each gender effect the wage gap that we can currently see?\n",
    " - Is there meant to be an N category for nonbinary or is it actually just meant to stand for N/A?"
   ]
  },
  {
   "cell_type": "markdown",
   "metadata": {},
   "source": [
    "## Acknowledgements\n",
    "- Navya for being a homie and helping me on some parts of my code that I was struggling on\n",
    "- Seattle Department of Human Resources for providing the dataset I used"
   ]
  }
 ],
 "metadata": {
  "kernelspec": {
   "display_name": "Python 3",
   "language": "python",
   "name": "python3"
  },
  "language_info": {
   "codemirror_mode": {
    "name": "ipython",
    "version": 3
   },
   "file_extension": ".py",
   "mimetype": "text/x-python",
   "name": "python",
   "nbconvert_exporter": "python",
   "pygments_lexer": "ipython3",
   "version": "3.7.3"
  }
 },
 "nbformat": 4,
 "nbformat_minor": 2
}
